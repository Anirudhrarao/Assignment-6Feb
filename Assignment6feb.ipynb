{
 "cells": [
  {
   "cell_type": "markdown",
   "id": "78ca982b",
   "metadata": {},
   "source": [
    "### Solution (1)"
   ]
  },
  {
   "cell_type": "code",
   "execution_count": 35,
   "id": "510fdeeb",
   "metadata": {},
   "outputs": [
    {
     "name": "stdout",
     "output_type": "stream",
     "text": [
      "1\n",
      "2\n",
      "3\n",
      "4\n",
      "[44, 55, 66, True]\n",
      "False\n",
      "(34, 56, 78, 89, 34)\n",
      "{1, 2, 3}\n",
      "{1: 34, 'key2': [55, 67, 78, 89], 4: (45, 22, 61, 34)}\n",
      "[56, 'data science']\n",
      "Machine Learning\n"
     ]
    }
   ],
   "source": [
    "list1 = [1,2,3,4, [44,55,66, True], False, (34,56,78,89,34), {1,2,3,3,2,1}, {1:34, \"key2\": [55, 67, 78, 89], 4: (45,\n",
    "22, 61, 34)}, [56, 'data science'], 'Machine Learning']\n",
    "for data in list1:\n",
    "    print(data)"
   ]
  },
  {
   "cell_type": "code",
   "execution_count": 89,
   "id": "244b58ed",
   "metadata": {},
   "outputs": [],
   "source": [
    "from functools import reduce\n",
    "integer= []\n",
    "def product_ls(list1):\n",
    "    for data in list1:\n",
    "        if type(data) == int:\n",
    "            integer.append(data)\n",
    "        elif type(data) == list:\n",
    "            for i in data:\n",
    "                if type(i) == int:\n",
    "                    integer.append(i)\n",
    "        elif type(data) == tuple:\n",
    "            for i in data:\n",
    "                if type(i) == int:\n",
    "                    integer.append(i)\n",
    "        elif type(data) == set:\n",
    "            for i in data:\n",
    "                integer.append(i)\n",
    "        elif type(data) == dict:\n",
    "            for i in data.items():\n",
    "                if type(i) == tuple:\n",
    "                    for j in i:\n",
    "                        if type(j) == int:\n",
    "                            integer.append(j)\n",
    "                        elif type(j) == list:\n",
    "                            for data in j:\n",
    "                                integer.append(data)\n",
    "                        elif type(j) == tuple:\n",
    "                            for data in j:\n",
    "                                integer.append(data)\n",
    "    return reduce((lambda x,y: x*y),integer)\n"
   ]
  },
  {
   "cell_type": "code",
   "execution_count": 90,
   "id": "3809b04b",
   "metadata": {},
   "outputs": [
    {
     "data": {
      "text/plain": [
       "4134711838987085478833841242112000"
      ]
     },
     "execution_count": 90,
     "metadata": {},
     "output_type": "execute_result"
    }
   ],
   "source": [
    "product_ls(list1)"
   ]
  },
  {
   "cell_type": "markdown",
   "id": "0a23c81e",
   "metadata": {},
   "source": [
    "### Solution (2)"
   ]
  },
  {
   "cell_type": "code",
   "execution_count": 6,
   "id": "e6c476cd",
   "metadata": {},
   "outputs": [],
   "source": [
    "def encryption(string):\n",
    "    string = string.replace('a','z').replace('b','y').replace('c','x').lower()\n",
    "    return \"$\".join(string.split())"
   ]
  },
  {
   "cell_type": "code",
   "execution_count": 7,
   "id": "744c5883",
   "metadata": {},
   "outputs": [
    {
     "data": {
      "text/plain": [
       "'i$wznt$to$yexome$z$dztz$sxientist'"
      ]
     },
     "execution_count": 7,
     "metadata": {},
     "output_type": "execute_result"
    }
   ],
   "source": [
    "encryption('I want to become a Data Scientist')"
   ]
  },
  {
   "cell_type": "code",
   "execution_count": null,
   "id": "21195a5f",
   "metadata": {},
   "outputs": [],
   "source": []
  }
 ],
 "metadata": {
  "kernelspec": {
   "display_name": "Python 3 (ipykernel)",
   "language": "python",
   "name": "python3"
  },
  "language_info": {
   "codemirror_mode": {
    "name": "ipython",
    "version": 3
   },
   "file_extension": ".py",
   "mimetype": "text/x-python",
   "name": "python",
   "nbconvert_exporter": "python",
   "pygments_lexer": "ipython3",
   "version": "3.11.1"
  }
 },
 "nbformat": 4,
 "nbformat_minor": 5
}
